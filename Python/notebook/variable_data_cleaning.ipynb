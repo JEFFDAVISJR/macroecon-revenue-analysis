{
 "cells": [
  {
   "cell_type": "code",
   "execution_count": 1,
   "id": "c0f27897-60dd-479a-a63c-bd84540e4fba",
   "metadata": {},
   "outputs": [],
   "source": [
    "import pandas as pd"
   ]
  },
  {
   "cell_type": "code",
   "execution_count": null,
   "id": "51de78d3-a7df-47d7-9971-208309fd30f3",
   "metadata": {},
   "outputs": [],
   "source": [
    "gdp = pd.read_csv('../data/read_gdp_sector_categories.csv')\n",
    "gdp.head()"
   ]
  },
  {
   "cell_type": "code",
   "execution_count": null,
   "id": "8e3c1a62-39cf-4f6e-911b-b2fb0852cd2d",
   "metadata": {},
   "outputs": [],
   "source": [
    "gdp_melt = pd.melt(gdp, id_vars = 'Category', var_name = 'Year-Qtr', value_name = 'GDP')\n",
    "gdp_melt.head()"
   ]
  },
  {
   "cell_type": "code",
   "execution_count": null,
   "id": "cfdeb2dd-b2f0-4ecf-b38a-6e90349c0f06",
   "metadata": {},
   "outputs": [],
   "source": [
    "gdp_melt['Year'] = gdp_melt['Year-Qtr'].str.split('-', expand=True)[0]\n",
    "gdp_melt['Qtr'] = gdp_melt['Year-Qtr'].str.split('-', expand=True)[1]\n",
    "#gdp_melt[['Year', 'Qtr']] = gdp_melt['Year-Qtr'].str.split('-', expand=True)"
   ]
  },
  {
   "cell_type": "code",
   "execution_count": null,
   "id": "28488d72-76a4-440e-a51e-6a6ca7f16552",
   "metadata": {},
   "outputs": [],
   "source": [
    "gdp_melt = gdp_melt.drop(columns = 'Year-Qtr')\n",
    "gdp_melt.head()"
   ]
  },
  {
   "cell_type": "code",
   "execution_count": null,
   "id": "2409d12c-8f86-458b-bc22-67781f5ab6be",
   "metadata": {},
   "outputs": [],
   "source": [
    "#gdp_melt.to_csv('read_gdp_sector_clean.csv')"
   ]
  },
  {
   "cell_type": "code",
   "execution_count": null,
   "id": "e9660737-2850-4e42-96e7-a9c5f6f1d8cb",
   "metadata": {},
   "outputs": [],
   "source": [
    "nonfarm_jobs = pd.read_csv('../data/read_nonfarm_employment_change.csv')\n",
    "nonfarm_jobs.head()"
   ]
  },
  {
   "cell_type": "code",
   "execution_count": null,
   "id": "3b6f1d19-bdae-433a-ac09-b674897e27f0",
   "metadata": {},
   "outputs": [],
   "source": [
    "nonfarm_jobs['Year'] = nonfarm_jobs['Date'].str.split(' ', expand=True)[0]\n",
    "nonfarm_jobs['Month'] = nonfarm_jobs['Date'].str.split(' ', expand=True)[1]"
   ]
  },
  {
   "cell_type": "code",
   "execution_count": null,
   "id": "19843fd3-d46e-411f-b75e-3137a0c79f98",
   "metadata": {},
   "outputs": [],
   "source": [
    "nonfarm_jobs['Month'] = nonfarm_jobs['Month'].str.replace('(', '', regex=False).str.replace(')', '', regex=False)\n",
    "nonfarm_jobs = nonfarm_jobs.drop(columns = 'Date')\n",
    "nonfarm_jobs.head()"
   ]
  },
  {
   "cell_type": "code",
   "execution_count": null,
   "id": "390c8811-6e64-4db3-b790-6baccb1a3a20",
   "metadata": {},
   "outputs": [],
   "source": [
    "#nonfarm_jobs.to_csv('read_nonfarm_jobs_clean.csv')"
   ]
  },
  {
   "cell_type": "code",
   "execution_count": 3,
   "id": "8081707a-7a93-47c4-a346-05a9010af35b",
   "metadata": {},
   "outputs": [
    {
     "data": {
      "text/html": [
       "<div>\n",
       "<style scoped>\n",
       "    .dataframe tbody tr th:only-of-type {\n",
       "        vertical-align: middle;\n",
       "    }\n",
       "\n",
       "    .dataframe tbody tr th {\n",
       "        vertical-align: top;\n",
       "    }\n",
       "\n",
       "    .dataframe thead th {\n",
       "        text-align: right;\n",
       "    }\n",
       "</style>\n",
       "<table border=\"1\" class=\"dataframe\">\n",
       "  <thead>\n",
       "    <tr style=\"text-align: right;\">\n",
       "      <th></th>\n",
       "      <th>Year</th>\n",
       "      <th>Jan</th>\n",
       "      <th>Feb</th>\n",
       "      <th>Mar</th>\n",
       "      <th>Apr</th>\n",
       "      <th>May</th>\n",
       "      <th>Jun</th>\n",
       "      <th>Jul</th>\n",
       "      <th>Aug</th>\n",
       "      <th>Sep</th>\n",
       "      <th>Oct</th>\n",
       "      <th>Nov</th>\n",
       "      <th>Dec</th>\n",
       "    </tr>\n",
       "  </thead>\n",
       "  <tbody>\n",
       "    <tr>\n",
       "      <th>0</th>\n",
       "      <td>1990</td>\n",
       "      <td>NaN</td>\n",
       "      <td>NaN</td>\n",
       "      <td>NaN</td>\n",
       "      <td>0.540</td>\n",
       "      <td>0.515</td>\n",
       "      <td>0.494</td>\n",
       "      <td>0.535</td>\n",
       "      <td>0.791</td>\n",
       "      <td>1.012</td>\n",
       "      <td>1.196</td>\n",
       "      <td>0.971</td>\n",
       "      <td>0.803</td>\n",
       "    </tr>\n",
       "    <tr>\n",
       "      <th>1</th>\n",
       "      <td>1991</td>\n",
       "      <td>0.741</td>\n",
       "      <td>0.637</td>\n",
       "      <td>0.558</td>\n",
       "      <td>0.552</td>\n",
       "      <td>0.569</td>\n",
       "      <td>0.547</td>\n",
       "      <td>0.586</td>\n",
       "      <td>0.623</td>\n",
       "      <td>0.635</td>\n",
       "      <td>0.671</td>\n",
       "      <td>0.645</td>\n",
       "      <td>0.522</td>\n",
       "    </tr>\n",
       "    <tr>\n",
       "      <th>2</th>\n",
       "      <td>1992</td>\n",
       "      <td>0.509</td>\n",
       "      <td>0.543</td>\n",
       "      <td>0.514</td>\n",
       "      <td>0.543</td>\n",
       "      <td>0.579</td>\n",
       "      <td>0.615</td>\n",
       "      <td>0.611</td>\n",
       "      <td>0.590</td>\n",
       "      <td>0.623</td>\n",
       "      <td>0.621</td>\n",
       "      <td>0.561</td>\n",
       "      <td>0.544</td>\n",
       "    </tr>\n",
       "    <tr>\n",
       "      <th>3</th>\n",
       "      <td>1993</td>\n",
       "      <td>0.534</td>\n",
       "      <td>0.553</td>\n",
       "      <td>0.558</td>\n",
       "      <td>0.551</td>\n",
       "      <td>0.553</td>\n",
       "      <td>0.526</td>\n",
       "      <td>0.494</td>\n",
       "      <td>0.501</td>\n",
       "      <td>0.535</td>\n",
       "      <td>0.568</td>\n",
       "      <td>0.533</td>\n",
       "      <td>0.446</td>\n",
       "    </tr>\n",
       "    <tr>\n",
       "      <th>4</th>\n",
       "      <td>1994</td>\n",
       "      <td>0.528</td>\n",
       "      <td>0.501</td>\n",
       "      <td>0.451</td>\n",
       "      <td>0.469</td>\n",
       "      <td>0.472</td>\n",
       "      <td>0.493</td>\n",
       "      <td>0.509</td>\n",
       "      <td>0.498</td>\n",
       "      <td>0.490</td>\n",
       "      <td>0.509</td>\n",
       "      <td>0.513</td>\n",
       "      <td>0.487</td>\n",
       "    </tr>\n",
       "  </tbody>\n",
       "</table>\n",
       "</div>"
      ],
      "text/plain": [
       "     Year    Jan    Feb    Mar    Apr    May    Jun    Jul    Aug    Sep  \\\n",
       "0    1990    NaN    NaN    NaN  0.540  0.515  0.494  0.535  0.791  1.012   \n",
       "1    1991  0.741  0.637  0.558  0.552  0.569  0.547  0.586  0.623  0.635   \n",
       "2    1992  0.509  0.543  0.514  0.543  0.579  0.615  0.611  0.590  0.623   \n",
       "3    1993  0.534  0.553  0.558  0.551  0.553  0.526  0.494  0.501  0.535   \n",
       "4    1994  0.528  0.501  0.451  0.469  0.472  0.493  0.509  0.498  0.490   \n",
       "\n",
       "     Oct    Nov    Dec  \n",
       "0  1.196  0.971  0.803  \n",
       "1  0.671  0.645  0.522  \n",
       "2  0.621  0.561  0.544  \n",
       "3  0.568  0.533  0.446  \n",
       "4  0.509  0.513  0.487  "
      ]
     },
     "execution_count": 3,
     "metadata": {},
     "output_type": "execute_result"
    }
   ],
   "source": [
    "jet_fuel = pd.read_csv('../data/read_jet_fuel_rd.csv')\n",
    "jet_fuel.head()"
   ]
  },
  {
   "cell_type": "code",
   "execution_count": 13,
   "id": "48496613-6f70-48b5-bd4d-a3d3c509bdd9",
   "metadata": {},
   "outputs": [],
   "source": [
    "jet_fuel_melt = pd.melt(jet_fuel, id_vars = 'Year', var_name = 'Month', value_name = 'Price/Gallon')\n",
    "jet_fuel_melt['Year'] = jet_fuel_melt['Year'].str.strip()\n",
    "jet_fuel_melt['Month'] = jet_fuel_melt['Month'].str.strip()"
   ]
  },
  {
   "cell_type": "code",
   "execution_count": 7,
   "id": "0c0060f7-f512-4a54-ac45-20c6a5b77615",
   "metadata": {},
   "outputs": [
    {
     "data": {
      "text/html": [
       "<div>\n",
       "<style scoped>\n",
       "    .dataframe tbody tr th:only-of-type {\n",
       "        vertical-align: middle;\n",
       "    }\n",
       "\n",
       "    .dataframe tbody tr th {\n",
       "        vertical-align: top;\n",
       "    }\n",
       "\n",
       "    .dataframe thead th {\n",
       "        text-align: right;\n",
       "    }\n",
       "</style>\n",
       "<table border=\"1\" class=\"dataframe\">\n",
       "  <thead>\n",
       "    <tr style=\"text-align: right;\">\n",
       "      <th></th>\n",
       "      <th>Year</th>\n",
       "      <th>Month</th>\n",
       "      <th>Price/Gallon</th>\n",
       "    </tr>\n",
       "  </thead>\n",
       "  <tbody>\n",
       "    <tr>\n",
       "      <th>415</th>\n",
       "      <td>2020</td>\n",
       "      <td>Dec</td>\n",
       "      <td>1.324</td>\n",
       "    </tr>\n",
       "    <tr>\n",
       "      <th>416</th>\n",
       "      <td>2021</td>\n",
       "      <td>Dec</td>\n",
       "      <td>2.095</td>\n",
       "    </tr>\n",
       "    <tr>\n",
       "      <th>417</th>\n",
       "      <td>2022</td>\n",
       "      <td>Dec</td>\n",
       "      <td>2.897</td>\n",
       "    </tr>\n",
       "    <tr>\n",
       "      <th>418</th>\n",
       "      <td>2023</td>\n",
       "      <td>Dec</td>\n",
       "      <td>2.387</td>\n",
       "    </tr>\n",
       "    <tr>\n",
       "      <th>419</th>\n",
       "      <td>2024</td>\n",
       "      <td>Dec</td>\n",
       "      <td>2.097</td>\n",
       "    </tr>\n",
       "  </tbody>\n",
       "</table>\n",
       "</div>"
      ],
      "text/plain": [
       "       Year Month  Price/Gallon\n",
       "415    2020   Dec         1.324\n",
       "416    2021   Dec         2.095\n",
       "417    2022   Dec         2.897\n",
       "418    2023   Dec         2.387\n",
       "419    2024   Dec         2.097"
      ]
     },
     "execution_count": 7,
     "metadata": {},
     "output_type": "execute_result"
    }
   ],
   "source": [
    "jet_fuel_melt.tail()"
   ]
  },
  {
   "cell_type": "code",
   "execution_count": 15,
   "id": "614b26c2-a5a7-40e8-bff8-6291a3717502",
   "metadata": {},
   "outputs": [
    {
     "data": {
      "text/html": [
       "<div>\n",
       "<style scoped>\n",
       "    .dataframe tbody tr th:only-of-type {\n",
       "        vertical-align: middle;\n",
       "    }\n",
       "\n",
       "    .dataframe tbody tr th {\n",
       "        vertical-align: top;\n",
       "    }\n",
       "\n",
       "    .dataframe thead th {\n",
       "        text-align: right;\n",
       "    }\n",
       "</style>\n",
       "<table border=\"1\" class=\"dataframe\">\n",
       "  <thead>\n",
       "    <tr style=\"text-align: right;\">\n",
       "      <th></th>\n",
       "      <th>Year</th>\n",
       "      <th>Month</th>\n",
       "      <th>Price/Gallon</th>\n",
       "    </tr>\n",
       "  </thead>\n",
       "  <tbody>\n",
       "    <tr>\n",
       "      <th>31</th>\n",
       "      <td>2021</td>\n",
       "      <td>Jan</td>\n",
       "      <td>1.420</td>\n",
       "    </tr>\n",
       "    <tr>\n",
       "      <th>32</th>\n",
       "      <td>2022</td>\n",
       "      <td>Jan</td>\n",
       "      <td>2.446</td>\n",
       "    </tr>\n",
       "    <tr>\n",
       "      <th>33</th>\n",
       "      <td>2023</td>\n",
       "      <td>Jan</td>\n",
       "      <td>3.542</td>\n",
       "    </tr>\n",
       "    <tr>\n",
       "      <th>34</th>\n",
       "      <td>2024</td>\n",
       "      <td>Jan</td>\n",
       "      <td>2.585</td>\n",
       "    </tr>\n",
       "    <tr>\n",
       "      <th>66</th>\n",
       "      <td>2021</td>\n",
       "      <td>Feb</td>\n",
       "      <td>1.601</td>\n",
       "    </tr>\n",
       "  </tbody>\n",
       "</table>\n",
       "</div>"
      ],
      "text/plain": [
       "    Year Month  Price/Gallon\n",
       "31  2021   Jan         1.420\n",
       "32  2022   Jan         2.446\n",
       "33  2023   Jan         3.542\n",
       "34  2024   Jan         2.585\n",
       "66  2021   Feb         1.601"
      ]
     },
     "execution_count": 15,
     "metadata": {},
     "output_type": "execute_result"
    }
   ],
   "source": [
    "year_list = ['2021', '2022', '2023', '2024']\n",
    "jet_fuel_melt = jet_fuel_melt[jet_fuel_melt['Year'].isin(year_list)]\n",
    "jet_fuel_melt.head()"
   ]
  },
  {
   "cell_type": "code",
   "execution_count": 17,
   "id": "d6d7a2a9-be8a-449d-a009-95be78efc60a",
   "metadata": {},
   "outputs": [],
   "source": [
    "jet_fuel_melt.to_csv('read_jet_fuel_clean.csv')"
   ]
  },
  {
   "cell_type": "code",
   "execution_count": null,
   "id": "1675df9f-74d4-4bae-bc37-999f6b689eaa",
   "metadata": {},
   "outputs": [],
   "source": []
  }
 ],
 "metadata": {
  "kernelspec": {
   "display_name": "Python 3 (ipykernel)",
   "language": "python",
   "name": "python3"
  },
  "language_info": {
   "codemirror_mode": {
    "name": "ipython",
    "version": 3
   },
   "file_extension": ".py",
   "mimetype": "text/x-python",
   "name": "python",
   "nbconvert_exporter": "python",
   "pygments_lexer": "ipython3",
   "version": "3.12.4"
  }
 },
 "nbformat": 4,
 "nbformat_minor": 5
}
