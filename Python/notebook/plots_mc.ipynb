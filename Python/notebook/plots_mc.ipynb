{
 "cells": [
  {
   "cell_type": "code",
   "execution_count": 1,
   "id": "1aeeae0f-af23-48cb-97bd-5950d986a80f",
   "metadata": {},
   "outputs": [],
   "source": [
    "import pandas as pd\n",
    "import numpy as np\n",
    "import matplotlib.pyplot as plt"
   ]
  },
  {
   "cell_type": "code",
   "execution_count": 2,
   "id": "ab69b6a3-035c-4981-92e6-088cbdadcde5",
   "metadata": {},
   "outputs": [],
   "source": [
    "sales = pd.read_csv('../data/read_summarized_sales_clean.csv')\n",
    "cci = pd.read_csv('../data/read_cci_clean.csv')\n",
    "gdp = pd.read_csv('../data/read_gdp_sector_clean.csv')\n",
    "rates = pd.read_csv('../data/read_fed_funds_rate_clean.csv')\n",
    "jobs = pd.read_csv('../data/read_nonfarm_jobs_clean.csv')\n",
    "fuel = pd.read_csv('../data/read_jet_fuel_clean.csv')\n",
    "unemployment = pd.read_csv('../data/read_unemployment_rate_clean.csv')"
   ]
  },
  {
   "cell_type": "markdown",
   "id": "db7af580-e498-4a8c-8526-9a2c0f5a37f4",
   "metadata": {},
   "source": [
    "**Revenue**"
   ]
  },
  {
   "cell_type": "code",
   "execution_count": 4,
   "id": "f986eb2f-d7fd-49cd-aa55-99e9a7b0af32",
   "metadata": {},
   "outputs": [],
   "source": [
    "sales.head()\n",
    "sales = sales[sales['Total Rev'] > 0]\n",
    "sales = sales[sales['Year-Month'] != '2022-Nov']"
   ]
  },
  {
   "cell_type": "code",
   "execution_count": 5,
   "id": "9230b696-f996-45bf-bdf2-2684ec575855",
   "metadata": {},
   "outputs": [],
   "source": [
    "month_rev = sales.groupby('Year-Month').agg({\n",
    "    'Total Rev': 'sum',\n",
    "    'Order Count': 'sum'\n",
    "}).reset_index()\n",
    "qtr_rev = sales.groupby('Year-Qtr').agg({\n",
    "    'Total Rev': 'sum',\n",
    "    'Order Count': 'sum'\n",
    "}).reset_index()"
   ]
  },
  {
   "cell_type": "code",
   "execution_count": 6,
   "id": "a43e02b5-d09b-4383-9359-78a77078af0f",
   "metadata": {},
   "outputs": [
    {
     "data": {
      "text/html": [
       "<div>\n",
       "<style scoped>\n",
       "    .dataframe tbody tr th:only-of-type {\n",
       "        vertical-align: middle;\n",
       "    }\n",
       "\n",
       "    .dataframe tbody tr th {\n",
       "        vertical-align: top;\n",
       "    }\n",
       "\n",
       "    .dataframe thead th {\n",
       "        text-align: right;\n",
       "    }\n",
       "</style>\n",
       "<table border=\"1\" class=\"dataframe\">\n",
       "  <thead>\n",
       "    <tr style=\"text-align: right;\">\n",
       "      <th></th>\n",
       "      <th>Year-Month</th>\n",
       "      <th>Total Rev</th>\n",
       "      <th>Order Count</th>\n",
       "    </tr>\n",
       "  </thead>\n",
       "  <tbody>\n",
       "    <tr>\n",
       "      <th>0</th>\n",
       "      <td>2021-Apr</td>\n",
       "      <td>3266261.45</td>\n",
       "      <td>10084</td>\n",
       "    </tr>\n",
       "    <tr>\n",
       "      <th>1</th>\n",
       "      <td>2021-Aug</td>\n",
       "      <td>3580648.47</td>\n",
       "      <td>13212</td>\n",
       "    </tr>\n",
       "    <tr>\n",
       "      <th>2</th>\n",
       "      <td>2021-Dec</td>\n",
       "      <td>3984206.03</td>\n",
       "      <td>10111</td>\n",
       "    </tr>\n",
       "    <tr>\n",
       "      <th>3</th>\n",
       "      <td>2021-Feb</td>\n",
       "      <td>2062865.99</td>\n",
       "      <td>6178</td>\n",
       "    </tr>\n",
       "    <tr>\n",
       "      <th>4</th>\n",
       "      <td>2021-Jan</td>\n",
       "      <td>2343105.07</td>\n",
       "      <td>6795</td>\n",
       "    </tr>\n",
       "  </tbody>\n",
       "</table>\n",
       "</div>"
      ],
      "text/plain": [
       "  Year-Month   Total Rev  Order Count\n",
       "0   2021-Apr  3266261.45        10084\n",
       "1   2021-Aug  3580648.47        13212\n",
       "2   2021-Dec  3984206.03        10111\n",
       "3   2021-Feb  2062865.99         6178\n",
       "4   2021-Jan  2343105.07         6795"
      ]
     },
     "execution_count": 6,
     "metadata": {},
     "output_type": "execute_result"
    }
   ],
   "source": [
    "month_rev.head()"
   ]
  },
  {
   "cell_type": "code",
   "execution_count": 7,
   "id": "201a7296-f4fb-4136-9f6c-7d0a68f653d2",
   "metadata": {},
   "outputs": [
    {
     "data": {
      "text/html": [
       "<div>\n",
       "<style scoped>\n",
       "    .dataframe tbody tr th:only-of-type {\n",
       "        vertical-align: middle;\n",
       "    }\n",
       "\n",
       "    .dataframe tbody tr th {\n",
       "        vertical-align: top;\n",
       "    }\n",
       "\n",
       "    .dataframe thead th {\n",
       "        text-align: right;\n",
       "    }\n",
       "</style>\n",
       "<table border=\"1\" class=\"dataframe\">\n",
       "  <thead>\n",
       "    <tr style=\"text-align: right;\">\n",
       "      <th></th>\n",
       "      <th>Year-Qtr</th>\n",
       "      <th>Total Rev</th>\n",
       "      <th>Order Count</th>\n",
       "    </tr>\n",
       "  </thead>\n",
       "  <tbody>\n",
       "    <tr>\n",
       "      <th>0</th>\n",
       "      <td>2021-Q1</td>\n",
       "      <td>6811485.27</td>\n",
       "      <td>20045</td>\n",
       "    </tr>\n",
       "    <tr>\n",
       "      <th>1</th>\n",
       "      <td>2021-Q2</td>\n",
       "      <td>9221361.13</td>\n",
       "      <td>44365</td>\n",
       "    </tr>\n",
       "    <tr>\n",
       "      <th>2</th>\n",
       "      <td>2021-Q3</td>\n",
       "      <td>10458928.23</td>\n",
       "      <td>44271</td>\n",
       "    </tr>\n",
       "    <tr>\n",
       "      <th>3</th>\n",
       "      <td>2021-Q4</td>\n",
       "      <td>11128401.18</td>\n",
       "      <td>32324</td>\n",
       "    </tr>\n",
       "    <tr>\n",
       "      <th>4</th>\n",
       "      <td>2022-Q1</td>\n",
       "      <td>10491733.32</td>\n",
       "      <td>24038</td>\n",
       "    </tr>\n",
       "  </tbody>\n",
       "</table>\n",
       "</div>"
      ],
      "text/plain": [
       "  Year-Qtr    Total Rev  Order Count\n",
       "0  2021-Q1   6811485.27        20045\n",
       "1  2021-Q2   9221361.13        44365\n",
       "2  2021-Q3  10458928.23        44271\n",
       "3  2021-Q4  11128401.18        32324\n",
       "4  2022-Q1  10491733.32        24038"
      ]
     },
     "execution_count": 7,
     "metadata": {},
     "output_type": "execute_result"
    }
   ],
   "source": [
    "qtr_rev.head()"
   ]
  },
  {
   "cell_type": "markdown",
   "id": "33de3896-4865-4764-bd4e-d7ccf7d493fe",
   "metadata": {},
   "source": [
    "**Consumer Confidence Index**"
   ]
  },
  {
   "cell_type": "code",
   "execution_count": 14,
   "id": "b236e52b-d42a-4f84-a8c7-765c4cc0e6f5",
   "metadata": {},
   "outputs": [
    {
     "data": {
      "text/html": [
       "<div>\n",
       "<style scoped>\n",
       "    .dataframe tbody tr th:only-of-type {\n",
       "        vertical-align: middle;\n",
       "    }\n",
       "\n",
       "    .dataframe tbody tr th {\n",
       "        vertical-align: top;\n",
       "    }\n",
       "\n",
       "    .dataframe thead th {\n",
       "        text-align: right;\n",
       "    }\n",
       "</style>\n",
       "<table border=\"1\" class=\"dataframe\">\n",
       "  <thead>\n",
       "    <tr style=\"text-align: right;\">\n",
       "      <th></th>\n",
       "      <th>Category</th>\n",
       "      <th>Year</th>\n",
       "      <th>Month</th>\n",
       "      <th>Year-Month</th>\n",
       "      <th>CCI</th>\n",
       "    </tr>\n",
       "  </thead>\n",
       "  <tbody>\n",
       "    <tr>\n",
       "      <th>0</th>\n",
       "      <td>1/1/2021</td>\n",
       "      <td>2021</td>\n",
       "      <td>Jan</td>\n",
       "      <td>2021-Jan</td>\n",
       "      <td>99.25391</td>\n",
       "    </tr>\n",
       "    <tr>\n",
       "      <th>1</th>\n",
       "      <td>2/1/2021</td>\n",
       "      <td>2021</td>\n",
       "      <td>Feb</td>\n",
       "      <td>2021-Feb</td>\n",
       "      <td>99.39012</td>\n",
       "    </tr>\n",
       "    <tr>\n",
       "      <th>2</th>\n",
       "      <td>3/1/2021</td>\n",
       "      <td>2021</td>\n",
       "      <td>Mar</td>\n",
       "      <td>2021-Mar</td>\n",
       "      <td>99.74757</td>\n",
       "    </tr>\n",
       "    <tr>\n",
       "      <th>3</th>\n",
       "      <td>4/1/2021</td>\n",
       "      <td>2021</td>\n",
       "      <td>Apr</td>\n",
       "      <td>2021-Apr</td>\n",
       "      <td>99.98598</td>\n",
       "    </tr>\n",
       "    <tr>\n",
       "      <th>4</th>\n",
       "      <td>5/1/2021</td>\n",
       "      <td>2021</td>\n",
       "      <td>May</td>\n",
       "      <td>2021-May</td>\n",
       "      <td>99.92869</td>\n",
       "    </tr>\n",
       "  </tbody>\n",
       "</table>\n",
       "</div>"
      ],
      "text/plain": [
       "   Category  Year Month Year-Month       CCI\n",
       "0  1/1/2021  2021   Jan   2021-Jan  99.25391\n",
       "1  2/1/2021  2021   Feb   2021-Feb  99.39012\n",
       "2  3/1/2021  2021   Mar   2021-Mar  99.74757\n",
       "3  4/1/2021  2021   Apr   2021-Apr  99.98598\n",
       "4  5/1/2021  2021   May   2021-May  99.92869"
      ]
     },
     "execution_count": 14,
     "metadata": {},
     "output_type": "execute_result"
    }
   ],
   "source": [
    "cci.head()"
   ]
  },
  {
   "cell_type": "code",
   "execution_count": 16,
   "id": "d3e5cf60-76ba-4bcd-8161-c6c9c763dcae",
   "metadata": {},
   "outputs": [
    {
     "data": {
      "text/html": [
       "<div>\n",
       "<style scoped>\n",
       "    .dataframe tbody tr th:only-of-type {\n",
       "        vertical-align: middle;\n",
       "    }\n",
       "\n",
       "    .dataframe tbody tr th {\n",
       "        vertical-align: top;\n",
       "    }\n",
       "\n",
       "    .dataframe thead th {\n",
       "        text-align: right;\n",
       "    }\n",
       "</style>\n",
       "<table border=\"1\" class=\"dataframe\">\n",
       "  <thead>\n",
       "    <tr style=\"text-align: right;\">\n",
       "      <th></th>\n",
       "      <th>Year-Month</th>\n",
       "      <th>CCI</th>\n",
       "      <th>Total Rev</th>\n",
       "      <th>Order Count</th>\n",
       "    </tr>\n",
       "  </thead>\n",
       "  <tbody>\n",
       "    <tr>\n",
       "      <th>0</th>\n",
       "      <td>2021-01-01</td>\n",
       "      <td>99.25391</td>\n",
       "      <td>2343105.07</td>\n",
       "      <td>6795</td>\n",
       "    </tr>\n",
       "    <tr>\n",
       "      <th>1</th>\n",
       "      <td>2021-02-01</td>\n",
       "      <td>99.39012</td>\n",
       "      <td>2062865.99</td>\n",
       "      <td>6178</td>\n",
       "    </tr>\n",
       "    <tr>\n",
       "      <th>2</th>\n",
       "      <td>2021-03-01</td>\n",
       "      <td>99.74757</td>\n",
       "      <td>2405514.21</td>\n",
       "      <td>7072</td>\n",
       "    </tr>\n",
       "    <tr>\n",
       "      <th>3</th>\n",
       "      <td>2021-04-01</td>\n",
       "      <td>99.98598</td>\n",
       "      <td>3266261.45</td>\n",
       "      <td>10084</td>\n",
       "    </tr>\n",
       "    <tr>\n",
       "      <th>4</th>\n",
       "      <td>2021-05-01</td>\n",
       "      <td>99.92869</td>\n",
       "      <td>2799528.31</td>\n",
       "      <td>13608</td>\n",
       "    </tr>\n",
       "  </tbody>\n",
       "</table>\n",
       "</div>"
      ],
      "text/plain": [
       "  Year-Month       CCI   Total Rev  Order Count\n",
       "0 2021-01-01  99.25391  2343105.07         6795\n",
       "1 2021-02-01  99.39012  2062865.99         6178\n",
       "2 2021-03-01  99.74757  2405514.21         7072\n",
       "3 2021-04-01  99.98598  3266261.45        10084\n",
       "4 2021-05-01  99.92869  2799528.31        13608"
      ]
     },
     "execution_count": 16,
     "metadata": {},
     "output_type": "execute_result"
    }
   ],
   "source": [
    "cci_rev = pd.merge(cci, month_rev, on = 'Year-Month')\n",
    "cci_rev = cci_rev[['Year-Month','CCI', 'Total Rev', 'Order Count']]\n",
    "cci_rev['Year-Month'] = pd.to_datetime(cci_rev['Year-Month'], format='%Y-%b')\n",
    "cci_rev.head()"
   ]
  },
  {
   "cell_type": "code",
   "execution_count": 18,
   "id": "31c370b0-25c0-4f04-a0bb-19163019d726",
   "metadata": {},
   "outputs": [
    {
     "data": {
      "text/html": [
       "<div>\n",
       "<style scoped>\n",
       "    .dataframe tbody tr th:only-of-type {\n",
       "        vertical-align: middle;\n",
       "    }\n",
       "\n",
       "    .dataframe tbody tr th {\n",
       "        vertical-align: top;\n",
       "    }\n",
       "\n",
       "    .dataframe thead th {\n",
       "        text-align: right;\n",
       "    }\n",
       "</style>\n",
       "<table border=\"1\" class=\"dataframe\">\n",
       "  <thead>\n",
       "    <tr style=\"text-align: right;\">\n",
       "      <th></th>\n",
       "      <th>CCI</th>\n",
       "      <th>Total Rev</th>\n",
       "    </tr>\n",
       "  </thead>\n",
       "  <tbody>\n",
       "    <tr>\n",
       "      <th>CCI</th>\n",
       "      <td>1.00000</td>\n",
       "      <td>-0.53718</td>\n",
       "    </tr>\n",
       "    <tr>\n",
       "      <th>Total Rev</th>\n",
       "      <td>-0.53718</td>\n",
       "      <td>1.00000</td>\n",
       "    </tr>\n",
       "  </tbody>\n",
       "</table>\n",
       "</div>"
      ],
      "text/plain": [
       "               CCI  Total Rev\n",
       "CCI        1.00000   -0.53718\n",
       "Total Rev -0.53718    1.00000"
      ]
     },
     "execution_count": 18,
     "metadata": {},
     "output_type": "execute_result"
    }
   ],
   "source": [
    "cci_rev[['CCI', 'Total Rev']].corr()"
   ]
  },
  {
   "cell_type": "code",
   "execution_count": 20,
   "id": "e5106ca1-502a-43db-b03e-b3ac20b1eb41",
   "metadata": {},
   "outputs": [
    {
     "data": {
      "image/png": "[encoded data removed]",
      "text/plain": [
       "<Figure size 1000x600 with 1 Axes>"
      ]
     },
     "metadata": {},
     "output_type": "display_data"
    }
   ],
   "source": [
    "plt.figure(figsize=(10, 6))\n",
    "\n",
    "# cci line\n",
    "plt.plot(cci_rev['Year-Month'], cci_rev['CCI'], label='CCI', color='b', marker='o')\n",
    "\n",
    "# total rev line\n",
    "plt.plot(cci_rev['Year-Month'], cci_rev['Total Rev'], label='Total Rev', color='g', marker='x')\n",
    "\n",
    "# labs/title\n",
    "plt.xlabel('Year-Month')\n",
    "plt.ylabel('Values')\n",
    "plt.title('CCI and Total Rev Over Time')\n",
    "\n",
    "#formatting\n",
    "plt.xticks(rotation=45)\n",
    "plt.legend()\n",
    "plt.tight_layout()\n",
    "plt.show()"
   ]
  },
  {
   "cell_type": "code",
   "execution_count": null,
   "id": "dfb1de24-328b-42d7-bb8c-6d1fd7340edc",
   "metadata": {},
   "outputs": [],
   "source": [
    "gdp.head()"
   ]
  },
  {
   "cell_type": "code",
   "execution_count": null,
   "id": "4c47df8d-4e86-41e1-9d5b-2adf469b1867",
   "metadata": {},
   "outputs": [],
   "source": [
    "rates.head()"
   ]
  },
  {
   "cell_type": "code",
   "execution_count": null,
   "id": "65bdeac0-253b-4c64-9899-b6d01866fcf6",
   "metadata": {},
   "outputs": [],
   "source": [
    "jobs.head()"
   ]
  },
  {
   "cell_type": "code",
   "execution_count": null,
   "id": "03e18653-36a8-4f81-8507-369ceaa85d8e",
   "metadata": {},
   "outputs": [],
   "source": [
    "fuel.head()"
   ]
  },
  {
   "cell_type": "code",
   "execution_count": null,
   "id": "7e3a60c4-97a7-4f25-8d67-bfd7780aaf05",
   "metadata": {},
   "outputs": [],
   "source": [
    "unemployment.head()"
   ]
  },
  {
   "cell_type": "code",
   "execution_count": null,
   "id": "ca6b93ac-8c59-4a45-b5bd-0cf2f3fc255a",
   "metadata": {},
   "outputs": [],
   "source": []
  }
 ],
 "metadata": {
  "kernelspec": {
   "display_name": "Python 3 (ipykernel)",
   "language": "python",
   "name": "python3"
  },
  "language_info": {
   "codemirror_mode": {
    "name": "ipython",
    "version": 3
   },
   "file_extension": ".py",
   "mimetype": "text/x-python",
   "name": "python",
   "nbconvert_exporter": "python",
   "pygments_lexer": "ipython3",
   "version": "3.12.4"
  }
 },
 "nbformat": 4,
 "nbformat_minor": 5
}
