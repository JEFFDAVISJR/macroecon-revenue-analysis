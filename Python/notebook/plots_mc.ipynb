{
 "cells": [
  {
   "cell_type": "code",
   "execution_count": 1,
   "id": "1aeeae0f-af23-48cb-97bd-5950d986a80f",
   "metadata": {},
   "outputs": [],
   "source": [
    "import pandas as pd\n",
    "import numpy as np\n",
    "import matplotlib.pyplot as plt"
   ]
  },
  {
   "cell_type": "code",
   "execution_count": 2,
   "id": "ab69b6a3-035c-4981-92e6-088cbdadcde5",
   "metadata": {},
   "outputs": [],
   "source": [
    "sales = pd.read_csv('../data/read_summarized_sales_clean.csv')\n",
    "cci = pd.read_csv('../data/read_cci_clean.csv')\n",
    "gdp = pd.read_csv('../data/read_gdp_sector_clean.csv')\n",
    "rates = pd.read_csv('../data/read_fed_funds_rate_clean.csv')\n",
    "jobs = pd.read_csv('../data/read_nonfarm_jobs_clean.csv')\n",
    "fuel = pd.read_csv('../data/read_jet_fuel_clean.csv')\n",
    "unemployment = pd.read_csv('../data/read_unemployment_rate_clean.csv')"
   ]
  },
  {
   "cell_type": "markdown",
   "id": "db7af580-e498-4a8c-8526-9a2c0f5a37f4",
   "metadata": {},
   "source": [
    "**Revenue**"
   ]
  },
  {
   "cell_type": "code",
   "execution_count": 6,
   "id": "f986eb2f-d7fd-49cd-aa55-99e9a7b0af32",
   "metadata": {},
   "outputs": [
    {
     "data": {
      "text/html": [
       "<div>\n",
       "<style scoped>\n",
       "    .dataframe tbody tr th:only-of-type {\n",
       "        vertical-align: middle;\n",
       "    }\n",
       "\n",
       "    .dataframe tbody tr th {\n",
       "        vertical-align: top;\n",
       "    }\n",
       "\n",
       "    .dataframe thead th {\n",
       "        text-align: right;\n",
       "    }\n",
       "</style>\n",
       "<table border=\"1\" class=\"dataframe\">\n",
       "  <thead>\n",
       "    <tr style=\"text-align: right;\">\n",
       "      <th></th>\n",
       "      <th>Year</th>\n",
       "      <th>Month</th>\n",
       "      <th>Qtr</th>\n",
       "      <th>Year-Month</th>\n",
       "      <th>Year-Qtr</th>\n",
       "      <th>Customer</th>\n",
       "      <th>S_Cons_Order_Class</th>\n",
       "      <th>Market</th>\n",
       "      <th>Total Rev</th>\n",
       "      <th>Order Count</th>\n",
       "    </tr>\n",
       "  </thead>\n",
       "  <tbody>\n",
       "    <tr>\n",
       "      <th>0</th>\n",
       "      <td>2021</td>\n",
       "      <td>Jan</td>\n",
       "      <td>Q1</td>\n",
       "      <td>2021-Jan</td>\n",
       "      <td>2021-Q1</td>\n",
       "      <td>al-Ahsan, Rashaad</td>\n",
       "      <td>At-Once</td>\n",
       "      <td>Non-Profit</td>\n",
       "      <td>5739.30</td>\n",
       "      <td>1</td>\n",
       "    </tr>\n",
       "    <tr>\n",
       "      <th>1</th>\n",
       "      <td>2021</td>\n",
       "      <td>Jan</td>\n",
       "      <td>Q1</td>\n",
       "      <td>2021-Jan</td>\n",
       "      <td>2021-Q1</td>\n",
       "      <td>al-Fahmy, Haazim</td>\n",
       "      <td>At-Once</td>\n",
       "      <td>Prof Serv</td>\n",
       "      <td>660.00</td>\n",
       "      <td>1</td>\n",
       "    </tr>\n",
       "    <tr>\n",
       "      <th>2</th>\n",
       "      <td>2021</td>\n",
       "      <td>Jan</td>\n",
       "      <td>Q1</td>\n",
       "      <td>2021-Jan</td>\n",
       "      <td>2021-Q1</td>\n",
       "      <td>al-Hamed, Zeena</td>\n",
       "      <td>At-Once</td>\n",
       "      <td>Local</td>\n",
       "      <td>0.00</td>\n",
       "      <td>1</td>\n",
       "    </tr>\n",
       "    <tr>\n",
       "      <th>3</th>\n",
       "      <td>2021</td>\n",
       "      <td>Jan</td>\n",
       "      <td>Q1</td>\n",
       "      <td>2021-Jan</td>\n",
       "      <td>2021-Q1</td>\n",
       "      <td>al-Hamed, Zeena</td>\n",
       "      <td>In-Stock</td>\n",
       "      <td>Food/Bev</td>\n",
       "      <td>793.45</td>\n",
       "      <td>2</td>\n",
       "    </tr>\n",
       "    <tr>\n",
       "      <th>4</th>\n",
       "      <td>2021</td>\n",
       "      <td>Jan</td>\n",
       "      <td>Q1</td>\n",
       "      <td>2021-Jan</td>\n",
       "      <td>2021-Q1</td>\n",
       "      <td>al-Hamed, Zeena</td>\n",
       "      <td>In-Stock</td>\n",
       "      <td>General</td>\n",
       "      <td>286.25</td>\n",
       "      <td>1</td>\n",
       "    </tr>\n",
       "  </tbody>\n",
       "</table>\n",
       "</div>"
      ],
      "text/plain": [
       "   Year Month Qtr Year-Month Year-Qtr           Customer S_Cons_Order_Class  \\\n",
       "0  2021   Jan  Q1   2021-Jan  2021-Q1  al-Ahsan, Rashaad            At-Once   \n",
       "1  2021   Jan  Q1   2021-Jan  2021-Q1   al-Fahmy, Haazim            At-Once   \n",
       "2  2021   Jan  Q1   2021-Jan  2021-Q1    al-Hamed, Zeena            At-Once   \n",
       "3  2021   Jan  Q1   2021-Jan  2021-Q1    al-Hamed, Zeena           In-Stock   \n",
       "4  2021   Jan  Q1   2021-Jan  2021-Q1    al-Hamed, Zeena           In-Stock   \n",
       "\n",
       "       Market  Total Rev  Order Count  \n",
       "0  Non-Profit    5739.30            1  \n",
       "1   Prof Serv     660.00            1  \n",
       "2       Local       0.00            1  \n",
       "3    Food/Bev     793.45            2  \n",
       "4     General     286.25            1  "
      ]
     },
     "execution_count": 6,
     "metadata": {},
     "output_type": "execute_result"
    }
   ],
   "source": [
    "sales.head()"
   ]
  },
  {
   "cell_type": "code",
   "execution_count": 8,
   "id": "9230b696-f996-45bf-bdf2-2684ec575855",
   "metadata": {},
   "outputs": [],
   "source": [
    "month_rev = sales.groupby('Year-Month').agg({\n",
    "    'Total Rev': 'sum',\n",
    "    'Order Count': 'sum'\n",
    "}).reset_index()\n",
    "qtr_rev = sales.groupby('Year-Qtr').agg({\n",
    "    'Total Rev': 'sum',\n",
    "    'Order Count': 'sum'\n",
    "}).reset_index()"
   ]
  },
  {
   "cell_type": "code",
   "execution_count": 10,
   "id": "a43e02b5-d09b-4383-9359-78a77078af0f",
   "metadata": {},
   "outputs": [
    {
     "data": {
      "text/html": [
       "<div>\n",
       "<style scoped>\n",
       "    .dataframe tbody tr th:only-of-type {\n",
       "        vertical-align: middle;\n",
       "    }\n",
       "\n",
       "    .dataframe tbody tr th {\n",
       "        vertical-align: top;\n",
       "    }\n",
       "\n",
       "    .dataframe thead th {\n",
       "        text-align: right;\n",
       "    }\n",
       "</style>\n",
       "<table border=\"1\" class=\"dataframe\">\n",
       "  <thead>\n",
       "    <tr style=\"text-align: right;\">\n",
       "      <th></th>\n",
       "      <th>Year-Month</th>\n",
       "      <th>Total Rev</th>\n",
       "      <th>Order Count</th>\n",
       "    </tr>\n",
       "  </thead>\n",
       "  <tbody>\n",
       "    <tr>\n",
       "      <th>0</th>\n",
       "      <td>2021-Apr</td>\n",
       "      <td>3266201.33</td>\n",
       "      <td>10326</td>\n",
       "    </tr>\n",
       "    <tr>\n",
       "      <th>1</th>\n",
       "      <td>2021-Aug</td>\n",
       "      <td>3580439.44</td>\n",
       "      <td>13230</td>\n",
       "    </tr>\n",
       "    <tr>\n",
       "      <th>2</th>\n",
       "      <td>2021-Dec</td>\n",
       "      <td>3980600.52</td>\n",
       "      <td>10168</td>\n",
       "    </tr>\n",
       "    <tr>\n",
       "      <th>3</th>\n",
       "      <td>2021-Feb</td>\n",
       "      <td>2062865.99</td>\n",
       "      <td>6491</td>\n",
       "    </tr>\n",
       "    <tr>\n",
       "      <th>4</th>\n",
       "      <td>2021-Jan</td>\n",
       "      <td>2329337.30</td>\n",
       "      <td>7064</td>\n",
       "    </tr>\n",
       "  </tbody>\n",
       "</table>\n",
       "</div>"
      ],
      "text/plain": [
       "  Year-Month   Total Rev  Order Count\n",
       "0   2021-Apr  3266201.33        10326\n",
       "1   2021-Aug  3580439.44        13230\n",
       "2   2021-Dec  3980600.52        10168\n",
       "3   2021-Feb  2062865.99         6491\n",
       "4   2021-Jan  2329337.30         7064"
      ]
     },
     "execution_count": 10,
     "metadata": {},
     "output_type": "execute_result"
    }
   ],
   "source": [
    "month_rev.head()"
   ]
  },
  {
   "cell_type": "code",
   "execution_count": 12,
   "id": "201a7296-f4fb-4136-9f6c-7d0a68f653d2",
   "metadata": {},
   "outputs": [
    {
     "data": {
      "text/html": [
       "<div>\n",
       "<style scoped>\n",
       "    .dataframe tbody tr th:only-of-type {\n",
       "        vertical-align: middle;\n",
       "    }\n",
       "\n",
       "    .dataframe tbody tr th {\n",
       "        vertical-align: top;\n",
       "    }\n",
       "\n",
       "    .dataframe thead th {\n",
       "        text-align: right;\n",
       "    }\n",
       "</style>\n",
       "<table border=\"1\" class=\"dataframe\">\n",
       "  <thead>\n",
       "    <tr style=\"text-align: right;\">\n",
       "      <th></th>\n",
       "      <th>Year-Qtr</th>\n",
       "      <th>Total Rev</th>\n",
       "      <th>Order Count</th>\n",
       "    </tr>\n",
       "  </thead>\n",
       "  <tbody>\n",
       "    <tr>\n",
       "      <th>0</th>\n",
       "      <td>2021-Q1</td>\n",
       "      <td>6797150.27</td>\n",
       "      <td>20839</td>\n",
       "    </tr>\n",
       "    <tr>\n",
       "      <th>1</th>\n",
       "      <td>2021-Q2</td>\n",
       "      <td>9221239.39</td>\n",
       "      <td>44814</td>\n",
       "    </tr>\n",
       "    <tr>\n",
       "      <th>2</th>\n",
       "      <td>2021-Q3</td>\n",
       "      <td>10458666.22</td>\n",
       "      <td>44348</td>\n",
       "    </tr>\n",
       "    <tr>\n",
       "      <th>3</th>\n",
       "      <td>2021-Q4</td>\n",
       "      <td>11123543.36</td>\n",
       "      <td>32468</td>\n",
       "    </tr>\n",
       "    <tr>\n",
       "      <th>4</th>\n",
       "      <td>2022-Q1</td>\n",
       "      <td>10487291.42</td>\n",
       "      <td>24253</td>\n",
       "    </tr>\n",
       "  </tbody>\n",
       "</table>\n",
       "</div>"
      ],
      "text/plain": [
       "  Year-Qtr    Total Rev  Order Count\n",
       "0  2021-Q1   6797150.27        20839\n",
       "1  2021-Q2   9221239.39        44814\n",
       "2  2021-Q3  10458666.22        44348\n",
       "3  2021-Q4  11123543.36        32468\n",
       "4  2022-Q1  10487291.42        24253"
      ]
     },
     "execution_count": 12,
     "metadata": {},
     "output_type": "execute_result"
    }
   ],
   "source": [
    "qtr_rev.head()"
   ]
  },
  {
   "cell_type": "markdown",
   "id": "33de3896-4865-4764-bd4e-d7ccf7d493fe",
   "metadata": {},
   "source": [
    "**Consumer Confidence Index**"
   ]
  },
  {
   "cell_type": "code",
   "execution_count": 15,
   "id": "b236e52b-d42a-4f84-a8c7-765c4cc0e6f5",
   "metadata": {},
   "outputs": [
    {
     "data": {
      "text/html": [
       "<div>\n",
       "<style scoped>\n",
       "    .dataframe tbody tr th:only-of-type {\n",
       "        vertical-align: middle;\n",
       "    }\n",
       "\n",
       "    .dataframe tbody tr th {\n",
       "        vertical-align: top;\n",
       "    }\n",
       "\n",
       "    .dataframe thead th {\n",
       "        text-align: right;\n",
       "    }\n",
       "</style>\n",
       "<table border=\"1\" class=\"dataframe\">\n",
       "  <thead>\n",
       "    <tr style=\"text-align: right;\">\n",
       "      <th></th>\n",
       "      <th>Category</th>\n",
       "      <th>Year</th>\n",
       "      <th>Month</th>\n",
       "      <th>Year-Month</th>\n",
       "      <th>CCI</th>\n",
       "    </tr>\n",
       "  </thead>\n",
       "  <tbody>\n",
       "    <tr>\n",
       "      <th>0</th>\n",
       "      <td>1/1/2021</td>\n",
       "      <td>2021</td>\n",
       "      <td>Jan</td>\n",
       "      <td>2021-Jan</td>\n",
       "      <td>99.25391</td>\n",
       "    </tr>\n",
       "    <tr>\n",
       "      <th>1</th>\n",
       "      <td>2/1/2021</td>\n",
       "      <td>2021</td>\n",
       "      <td>Feb</td>\n",
       "      <td>2021-Feb</td>\n",
       "      <td>99.39012</td>\n",
       "    </tr>\n",
       "    <tr>\n",
       "      <th>2</th>\n",
       "      <td>3/1/2021</td>\n",
       "      <td>2021</td>\n",
       "      <td>Mar</td>\n",
       "      <td>2021-Mar</td>\n",
       "      <td>99.74757</td>\n",
       "    </tr>\n",
       "    <tr>\n",
       "      <th>3</th>\n",
       "      <td>4/1/2021</td>\n",
       "      <td>2021</td>\n",
       "      <td>Apr</td>\n",
       "      <td>2021-Apr</td>\n",
       "      <td>99.98598</td>\n",
       "    </tr>\n",
       "    <tr>\n",
       "      <th>4</th>\n",
       "      <td>5/1/2021</td>\n",
       "      <td>2021</td>\n",
       "      <td>May</td>\n",
       "      <td>2021-May</td>\n",
       "      <td>99.92869</td>\n",
       "    </tr>\n",
       "  </tbody>\n",
       "</table>\n",
       "</div>"
      ],
      "text/plain": [
       "   Category  Year Month Year-Month       CCI\n",
       "0  1/1/2021  2021   Jan   2021-Jan  99.25391\n",
       "1  2/1/2021  2021   Feb   2021-Feb  99.39012\n",
       "2  3/1/2021  2021   Mar   2021-Mar  99.74757\n",
       "3  4/1/2021  2021   Apr   2021-Apr  99.98598\n",
       "4  5/1/2021  2021   May   2021-May  99.92869"
      ]
     },
     "execution_count": 15,
     "metadata": {},
     "output_type": "execute_result"
    }
   ],
   "source": [
    "cci.head()"
   ]
  },
  {
   "cell_type": "code",
   "execution_count": null,
   "id": "d3e5cf60-76ba-4bcd-8161-c6c9c763dcae",
   "metadata": {},
   "outputs": [],
   "source": [
    "cci_rev = pd.merge("
   ]
  },
  {
   "cell_type": "code",
   "execution_count": null,
   "id": "dfb1de24-328b-42d7-bb8c-6d1fd7340edc",
   "metadata": {},
   "outputs": [],
   "source": [
    "gdp.head()"
   ]
  },
  {
   "cell_type": "code",
   "execution_count": null,
   "id": "4c47df8d-4e86-41e1-9d5b-2adf469b1867",
   "metadata": {},
   "outputs": [],
   "source": [
    "rates.head()"
   ]
  },
  {
   "cell_type": "code",
   "execution_count": null,
   "id": "65bdeac0-253b-4c64-9899-b6d01866fcf6",
   "metadata": {},
   "outputs": [],
   "source": [
    "jobs.head()"
   ]
  },
  {
   "cell_type": "code",
   "execution_count": null,
   "id": "03e18653-36a8-4f81-8507-369ceaa85d8e",
   "metadata": {},
   "outputs": [],
   "source": [
    "fuel.head()"
   ]
  },
  {
   "cell_type": "code",
   "execution_count": null,
   "id": "7e3a60c4-97a7-4f25-8d67-bfd7780aaf05",
   "metadata": {},
   "outputs": [],
   "source": [
    "unemployment.head()"
   ]
  },
  {
   "cell_type": "code",
   "execution_count": null,
   "id": "ca6b93ac-8c59-4a45-b5bd-0cf2f3fc255a",
   "metadata": {},
   "outputs": [],
   "source": []
  }
 ],
 "metadata": {
  "kernelspec": {
   "display_name": "Python 3 (ipykernel)",
   "language": "python",
   "name": "python3"
  },
  "language_info": {
   "codemirror_mode": {
    "name": "ipython",
    "version": 3
   },
   "file_extension": ".py",
   "mimetype": "text/x-python",
   "name": "python",
   "nbconvert_exporter": "python",
   "pygments_lexer": "ipython3",
   "version": "3.12.4"
  }
 },
 "nbformat": 4,
 "nbformat_minor": 5
}
